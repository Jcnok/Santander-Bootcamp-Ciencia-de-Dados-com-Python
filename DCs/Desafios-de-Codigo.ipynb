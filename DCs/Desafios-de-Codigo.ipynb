{
 "cells": [
  {
   "cell_type": "markdown",
   "id": "4e162488",
   "metadata": {},
   "source": [
    "# Resolução dos desafios de Código Python."
   ]
  },
  {
   "cell_type": "markdown",
   "id": "6c9ae9cf",
   "metadata": {},
   "source": [
    "<img src=\"./img/python.jpg\" referrerpolicy=\"same-origin\" style=\"display: block; object-fit: cover; border-radius: 0px; width: 100%; height: 30vh; opacity: 1; object-position: center 50%;\">"
   ]
  },
  {
   "cell_type": "markdown",
   "id": "5afd077d",
   "metadata": {},
   "source": [
    "<a name=\"ancora\"></a>\n",
    "\n",
    "# Desafios:\n",
    "\n",
    "1. [Equilibrando Saldo](#ancora1)\n",
    "2. [Organizando seus Ativos](#ancora2)\n",
    "3. [Condicionalmente Rico](#ancora3)\n",
    "4. [Juros Compostos](#ancora4)   \n",
    "5. [O Grande Depósito](#ancora5)  \n",
    "\n",
    "<a name=\"ancora\"></a>"
   ]
  },
  {
   "cell_type": "markdown",
   "id": "05776bf3",
   "metadata": {},
   "source": [
    "<a id=\"ancora1\"></a>\n",
    "## Desafio: Equilibrando Saldo"
   ]
  },
  {
   "cell_type": "markdown",
   "id": "0080f9b2",
   "metadata": {
    "heading_collapsed": true
   },
   "source": [
    "### Descrição\n",
    "Para esse desafio, considere que você foi contratado por uma empresa bancária para auxiliar nas implementações e melhorias do sistema empresarial. Em uma análise inicial, foi identificado pela equipe financeira a necessidade de desenvolver uma solução que permita ao cliente equilibrar seu saldo bancário. Dessa forma, o programa deve solicitar uma entrada que representa o saldo atual do funcionário, e após, seja informado o valor de duas transações, sendo elas: um depósito e um saque. O programa deve atualizar o saldo com base nas transações e exibir o saldo final.\n",
    "\n",
    "Informação: As transações de depósito e retirada devem ser tratadas como valores positivos e negativos, respectivamente, para garantir que o cálculo do saldo final seja realizado corretamente.\n",
    " \n",
    "\n",
    "### Entrada\n",
    "* saldo_atual: um número decimal representando o saldo atual da conta bancária.\n",
    "* valor_deposito: um número decimal representando o valor a ser depositado na conta.\n",
    "* valor_retirada: um número decimal representando o valor a ser retirado da conta.\n",
    "* Regra de Formatação: Considere apenas uma casa decimal para esse desafio.\n",
    "\n",
    "### Saída\n",
    " Um número decimal que representa o saldo atualizado na conta bancária após o processamento das transações.\n"
   ]
  },
  {
   "cell_type": "markdown",
   "id": "19a4b3c3",
   "metadata": {},
   "source": [
    "### Exemplos\n",
    "A tabela abaixo apresenta exemplos com alguns dados de entrada e suas respectivas saídas esperadas. Certifique-se de testar seu programa com esses exemplos e com outros casos possíveis."
   ]
  },
  {
   "cell_type": "markdown",
   "id": "1af86ee2",
   "metadata": {},
   "source": [
    "Exemplo de Entrada | Exemplo de Saída\n",
    ":-----------------:|:------------------:\n",
    "1000  |\n",
    "500   | Saldo atualizado na conta: 1300.0\n",
    "200   |\n",
    "----- | ---------------------------------\n",
    "100   |\n",
    "10    | Saldo atualizado na conta: 60.0\n",
    "50    |\n",
    "----- | ---------------------------------\n",
    "5000  | \n",
    "500   | Saldo atualizado na conta: 5300.0\n",
    "200   |"
   ]
  },
  {
   "cell_type": "code",
   "execution_count": 33,
   "id": "71782327",
   "metadata": {},
   "outputs": [
    {
     "name": "stdout",
     "output_type": "stream",
     "text": [
      "1000\n",
      "500\n",
      "200\n",
      "Saldo atualizado na conta: 1300.0\n"
     ]
    }
   ],
   "source": [
    "#TODO: Calcular o saldo atualizado de acordo com a descrição deste desafio.\n",
    "def calcular_saldo():\n",
    "  saldo_atual = float(input())\n",
    "  valor_deposito = float(input())\n",
    "  valor_retirada = float(input())  \n",
    "  saldo_atual += valor_deposito - valor_retirada \n",
    "  #TODO: Imprimir o a saída de conforme a tabela de exemplos (uma casa decimal).\n",
    "  print(f\"Saldo atualizado na conta: {saldo_atual:.1f}\")\n",
    "# executa a função\n",
    "calcular_saldo()"
   ]
  },
  {
   "cell_type": "markdown",
   "id": "d905af98",
   "metadata": {},
   "source": [
    "[voltar](#ancora)"
   ]
  },
  {
   "cell_type": "markdown",
   "id": "3b984a17",
   "metadata": {},
   "source": [
    "<a id=\"ancora2\"></a>\n",
    "## Desafio: Organizando seus Ativos"
   ]
  },
  {
   "cell_type": "markdown",
   "id": "535e5924",
   "metadata": {},
   "source": [
    "### Descrição\n",
    "Após uma análise cuidadosa realizada pela equipe de desenvolvimento de uma empresa bancaria, foi identificado a necessidade de uma nova funcionalidade para otimizar os processos e melhorias da experiência dos usuários. Agora, sua tarefa é implementar uma solução que organize em ordem alfabética uma lista de ativos que será informada pelos usuários. Os ativos são representados por strings que representam seus tipos, como por exemplo: Reservas de liquidez, Ativos intangiveis e dentre outros.\n",
    "\n",
    "### Entrada\n",
    "A primeira entrada consiste em um número inteiro que representa a  quantidade de ativos que o usuário possui. Em seguida, o usuário deverá  informar, em linhas separadas, os tipos (strings) dos respectivos ativos.\n",
    "\n",
    "### Saída\n",
    "Seu programa deve exibir a lista de Ativos organizada em ordem alfabética. Cada ativo deve ser apresentado em uma linha separada.\n",
    "\n",
    "### Exemplos\n",
    "A tabela abaixo apresenta exemplos com alguns dados de entrada e suas respectivas saídas esperadas. Certifique-se de testar seu programa com esses exemplos e com outros casos possíveis."
   ]
  },
  {
   "cell_type": "markdown",
   "id": "cca02e07",
   "metadata": {},
   "source": [
    "Exemplo de Entrada | Exemplo de Saída\n",
    ":-----------------:|:------------------:\n",
    "3                         | Deposito\n",
    "Financiamento de Imovel   | Financiamento de Imovel\n",
    "Deposito                  | Reservas Bancarias\n",
    "Reservas Bancarias        |\n",
    "----- | ---------------------------------\n",
    "3                         | Carteiras de credito \n",
    "Carteiras de credito      | Derivativos financeiros\n",
    "Investimentos em titulos  | Investimentos em titulos\n",
    "Derivativos financeiros   |\n",
    "----- | ---------------------------------\n",
    "3                         | Ativos intangiveis \n",
    "Reservas de liquidez      | Fundos de investimento\n",
    "Ativos intangiveis        | Reservas de liquidez\n",
    "Fundos de investimento    |"
   ]
  },
  {
   "cell_type": "code",
   "execution_count": 75,
   "id": "08a00e47",
   "metadata": {},
   "outputs": [
    {
     "name": "stdout",
     "output_type": "stream",
     "text": [
      "3\n",
      "julio\n",
      "cesar\n",
      "okuda\n",
      "cesar\n",
      "julio\n",
      "okuda\n"
     ]
    }
   ],
   "source": [
    "ativos = []\n",
    "\n",
    "# Entrada da quantidade de ativos\n",
    "quantidadeAtivos = int(input())\n",
    "\n",
    "# Entrada dos códigos dos ativos\n",
    "for _ in range(quantidadeAtivos):\n",
    "    codigoAtivo = input()\n",
    "    ativos.append(codigoAtivo)\n",
    "# TODO: Ordenar os ativos em ordem alfabética.\n",
    "ativos.sort()\n",
    "# TODO: Imprimir a lista de ativos ordenada, conforme a tabela de exemplos.\n",
    "for i in ativos:\n",
    "    print(i)"
   ]
  },
  {
   "cell_type": "markdown",
   "id": "80895a82",
   "metadata": {},
   "source": [
    "[voltar](#ancora)"
   ]
  },
  {
   "cell_type": "markdown",
   "id": "3dda63b4",
   "metadata": {},
   "source": [
    "<a id=\"ancora3\"></a>\n",
    "## Desafio: Condicionalmente Rico"
   ]
  },
  {
   "cell_type": "markdown",
   "id": "251d7cd8",
   "metadata": {},
   "source": [
    "### Descrição\n",
    "Uma nova feature para um sistema bancário foi analisada pela equipe de desenvolvimento e será uma das tarefas a serem trabalhadas durante a sprint, como desenvolvedor da empresa você recebeu os requisitos para a nova implementação que consiste em uma solução algorítmica que permita aos clientes realizarem saques em caixas eletrônicos. No entanto, existem algumas regras a serem seguidas para garantir que um saque possa ser realizado com sucesso.\n",
    "\n",
    "### Regras do saque:\n",
    "\n",
    "- Cada cliente digitará o valor do seu saldoTotal de sua conta bancária e o valorSaque.\n",
    "- Um saque só pode ser realizado se o saldoDisponível na conta for igual ou superior ao valor solicitado.\n",
    "- Se o saldo for suficiente, o valor solicitado deve ser subtraído do saldo disponível, indicando que o saque foi realizado.\n",
    "- Se o saldo for insuficiente, o saque não deve ser realizado e uma mensagem adequada deve ser exibida.\n",
    "\n",
    "### Entrada\n",
    "- A entrada consiste em dois valores inteiros que representam o total do saldo da conta e o valor do saque.\n",
    "\n",
    "### Saída\n",
    "- Se o saque for realizado com sucesso, exibir a mensagem \"Saque realizado com sucesso! Novo saldo: {saldo}\", onde {saldo} é o novo saldo disponível na conta.\n",
    "\n",
    "- Se o saque não for possível devido a saldo insuficiente, exibir a mensagem \"Saldo insuficiente. Saque nao realizado!\"\n",
    "\n",
    "### Exemplos\n",
    "A tabela abaixo apresenta exemplos com alguns dados de entrada e suas respectivas saídas esperadas. Certifique-se de testar seu programa com esses exemplos e com outros casos possíveis."
   ]
  },
  {
   "cell_type": "markdown",
   "id": "9f7be5ae",
   "metadata": {},
   "source": [
    "Exemplo de Entrada | Exemplo de Saída\n",
    ":-----------------:|:------------------:\n",
    "1000  | Saque realizado com sucesso! Novo saldo: 800\n",
    "200   | \n",
    "----- | ---------------------------------\n",
    "1500  | Saldo insuficiente. Saque nao realizado!\n",
    "1800  | \n",
    "----- | ---------------------------------\n",
    "300   | Saque realizado com sucesso. Novo saldo: 100\n",
    "200   |"
   ]
  },
  {
   "cell_type": "code",
   "execution_count": 76,
   "id": "b08f58ec",
   "metadata": {},
   "outputs": [
    {
     "name": "stdout",
     "output_type": "stream",
     "text": [
      "1000\n",
      "200\n",
      "Saque realizado com sucesso! Novo saldo: 800\n"
     ]
    }
   ],
   "source": [
    "# Entrada de dados\n",
    "saldo_total = int(input())\n",
    "valor_saque = int(input())\n",
    "\n",
    "# TODO: Criar as condições necessárias para impressão da saída, vide tabela de exemplos.\n",
    "if saldo_total >= valor_saque:\n",
    "    saldo = saldo_total - valor_saque\n",
    "    print(f\"Saque realizado com sucesso. Novo saldo: {saldo}\")\n",
    "else:\n",
    "    print(\"Saldo insuficiente. Saque nao realizado!\")"
   ]
  },
  {
   "cell_type": "markdown",
   "id": "a88112fc",
   "metadata": {},
   "source": [
    "[voltar](#ancora)"
   ]
  },
  {
   "cell_type": "markdown",
   "id": "2b21c149",
   "metadata": {},
   "source": [
    "<a id=\"ancora4\"></a>\n",
    "## Desafio: Juros Compostos"
   ]
  },
  {
   "cell_type": "markdown",
   "id": "5959d1e1",
   "metadata": {},
   "source": [
    "### Desafio\n",
    "Imagine que você está desenvolvendo um aplicativo para um banco que deseja calcular os juros compostos de um investimento. Seu objetivo é criar uma função que receba três parâmetros: o valor inicial do investimento, a taxa de juros anual e o período de tempo em anos. A função deve calcular e retornar o valor final do investimento após o período determinado, levando em consideração os juros compostos.\n",
    "\n",
    "### Entrada:\n",
    "- A função deve receber os seguintes parâmetros:\n",
    "\n",
    "    - valor_inicial: um número inteiro ou decimal representando o valor inicial do investimento.\n",
    "\n",
    "    - taxa_juros: um número decimal representando a taxa de juros anual. Por exemplo, se a taxa for de 5%, o valor passado será 0.05.\n",
    "\n",
    "    - periodo: um número inteiro representando a quantidade de anos do investimento.\n",
    "\n",
    "### Saída:\n",
    "- A função deve retornar o valor final do investimento após o período determinado, considerando os juros compostos. O valor final deve ser arredondado para duas casas decimais.\n",
    "\n",
    "### Exemplos\n",
    "A tabela abaixo apresenta exemplos com alguns dados de entrada e suas respectivas saídas esperadas. Certifique-se de testar seu programa com esses exemplos e com outros casos possíveis."
   ]
  },
  {
   "cell_type": "markdown",
   "id": "9671480f",
   "metadata": {},
   "source": [
    "Exemplo de Entrada | Exemplo de Saída\n",
    ":-----------------:|:------------------:\n",
    "5000   |\n",
    "0.08   | Valor final do investimento: R\\$ 7346.64\n",
    "5      |\n",
    "-----  | ---------------------------------\n",
    "1000   |\n",
    "0.06   | Valor final do investimento: R\\$ 1191.02\n",
    "3      |\n",
    "-----  | ---------------------------------\n",
    "20000  | \n",
    "0.04   | Valor final do investimento: R\\$ 29604.89\n",
    "10     |"
   ]
  },
  {
   "cell_type": "markdown",
   "id": "f95ec04b",
   "metadata": {},
   "source": [
    "### Fórmula do juros compostos:"
   ]
  },
  {
   "cell_type": "markdown",
   "id": "7b32948e",
   "metadata": {},
   "source": [
    "![img](./img/juros-composto.gif)"
   ]
  },
  {
   "cell_type": "markdown",
   "id": "603e63bf",
   "metadata": {},
   "source": [
    "### Código:"
   ]
  },
  {
   "cell_type": "code",
   "execution_count": 95,
   "id": "ef417d24",
   "metadata": {},
   "outputs": [
    {
     "name": "stdout",
     "output_type": "stream",
     "text": [
      "20000\n",
      "0.04\n",
      "10\n",
      "Valor final do investimento: R$ 29604.89\n"
     ]
    }
   ],
   "source": [
    "valor_inicial = float(input())\n",
    "taxa_juros = float(input())\n",
    "periodo = int(input())\n",
    "\n",
    "valor_final = valor_inicial * (1 + taxa_juros)**periodo\n",
    "\n",
    "print(\"Valor final do investimento: R$\", round(valor_final,2))"
   ]
  },
  {
   "cell_type": "markdown",
   "id": "bded7537",
   "metadata": {},
   "source": [
    "[voltar](#ancora)"
   ]
  },
  {
   "cell_type": "markdown",
   "id": "2053c873",
   "metadata": {},
   "source": [
    "<a id=\"ancora5\"></a>\n",
    "## Desafio: O Grande Depósito"
   ]
  },
  {
   "cell_type": "markdown",
   "id": "3c5d83c7",
   "metadata": {},
   "source": [
    "### Desafio\n",
    "Você foi contratado por um banco para desenvolver um programa que auxilie seus clientes a realizar depósitos em suas contas. O programa deve solicitar ao cliente o valor do depósito e verificar se o valor é válido. Se o valor for maior do que zero, o programa deve adicionar o valor ao saldo da conta. Caso contrário, o programa deve exibir uma mensagem de erro e solicitar um novo valor. O programa deve continuar solicitando valores de depósito até que seja digitado um valor válido.\n",
    "\n",
    "### Entrada\n",
    "O programa deve utilizar o Scanner para receber os valores de depósito digitados pelo cliente. Os valores podem ser decimais, representando valores em reais.\n",
    "\n",
    "### Saída\n",
    "O programa deve exibir uma mensagem de sucesso quando um valor de depósito válido for informado e o saldo da conta for atualizado. Caso um valor inválido seja digitado, o programa deve exibir uma mensagem de erro e solicitar um novo valor.\n",
    "\n",
    "### Exemplos\n",
    "A tabela abaixo apresenta exemplos com alguns dados de entrada e suas respectivas saídas esperadas. Certifique-se de testar seu programa com esses exemplos e com outros casos possíveis."
   ]
  },
  {
   "cell_type": "markdown",
   "id": "faf19a70",
   "metadata": {},
   "source": [
    "Exemplo de Entrada | Exemplo de Saída\n",
    ":-----------------:|:------------------:\n",
    "500.50 | Deposito realizado com sucesso! Saldo atual: R$ 500.50\n",
    "-----  | ---------------------------------\n",
    "-100   | Valor invalido! Digite um valor maior que zero.\n",
    "-----  | ---------------------------------\n",
    "0      | Encerrando o programa..."
   ]
  },
  {
   "cell_type": "code",
   "execution_count": 1,
   "id": "ca757ada",
   "metadata": {},
   "outputs": [
    {
     "name": "stdout",
     "output_type": "stream",
     "text": [
      "500.50\n",
      "Deposito realizado com sucesso!\n",
      "Saldo atual: R$ 500.50\n"
     ]
    }
   ],
   "source": [
    "saldo = 0 \n",
    "\n",
    "while True:\n",
    " try:\n",
    "  valor = float(input())\n",
    "\n",
    "  if valor > 0:\n",
    "   saldo = saldo + valor\n",
    "   print(\"Deposito realizado com sucesso!\")\n",
    "   print(\"Saldo atual: R$ {:.2f}\".format(saldo))\n",
    "   break\n",
    "  \n",
    "  elif valor == 0:\n",
    "   print(\"Encerrando o programa...\")\n",
    "   break\n",
    "\n",
    "  else:\n",
    "   print(\"Valor invalido! Digite um valor maior que zero.\")\n",
    "\n",
    " except EOFError:\n",
    "  break"
   ]
  },
  {
   "cell_type": "markdown",
   "id": "23714baf",
   "metadata": {},
   "source": [
    "[voltar](#ancora)"
   ]
  }
 ],
 "metadata": {
  "kernelspec": {
   "display_name": "Python 3 (ipykernel)",
   "language": "python",
   "name": "python3"
  },
  "language_info": {
   "codemirror_mode": {
    "name": "ipython",
    "version": 3
   },
   "file_extension": ".py",
   "mimetype": "text/x-python",
   "name": "python",
   "nbconvert_exporter": "python",
   "pygments_lexer": "ipython3",
   "version": "3.9.12"
  }
 },
 "nbformat": 4,
 "nbformat_minor": 5
}
